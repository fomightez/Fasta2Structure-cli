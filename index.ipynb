{
 "cells": [
  {
   "cell_type": "markdown",
   "metadata": {},
   "source": [
    "# Illustrating Fasta2Structure use anywhere WITH NO INSTALLATIONS\n",
    "\n",
    "Fasta2Structure prepares data in the specific format required by the population gentics software research program STRUCTURE that was developed by [Pritchard et al. 2000](https://pubmed.ncbi.nlm.nih.gov/10835412/). See more about that software [here](https://web.stanford.edu/group/pritchardlab/structure.html) with [the current version of the STRUCTURE software (v. 2.3.4) and documentation available here](https://web.stanford.edu/group/pritchardlab/structure_software/release_versions/v2.3.4/html/structure.html).  \n",
    "Fasta2Structure is described in [Bessa-Silva 2024 'Fasta2Structure: a user-friendly tool for converting multiple aligned FASTA files to STRUCTURE format'](https://bmcbioinformatics.biomedcentral.com/articles/10.1186/s12859-024-05697-7).\n",
    "\n",
    "This notebook will demonstrate using a modified script Fasta2Structure in Jupyter and on the command line. The latter means it will be useful almost anywhere such as on remote machines or computer clusters. There is also the original Tkinter-based Python script by Adam Bessa you can run in your desktop, if you prefer. To try that in a virtual desktop without needing to install anything you own system [here](https://gist.github.com/fomightez/e65761a066f56cbbc4c9b5b882c87380) and find a step-by-step. It will not be as easy to use as the examples that I walk through in this Jupyter notebook file.\n",
    "\n",
    "Importantly, what is here will demonstrate using Fasta2Structure, right in your favorite web browser, **without the need to install pr do anything on your own system**.\n",
    "\n",
    "-----\n",
    "\n",
    "##### Absolutely need to try out the version currently in AdamBessa's Fasta2Structure repo & yet rather not touch your system?\n",
    "\n",
    "You can still try the original Tkinter-based software presently available at https://github.com/AdamBessa/Fasta2Structure without installing anything on your computer. You can go [here](https://gist.github.com/fomightez/e65761a066f56cbbc4c9b5b882c87380) and find a step-by-step to use a remote virtual desktop to test the Fasta2Structure script. Only you'll find it isn't as convenient as what is provided here.\n",
    "    \n",
    "----\n",
    "    \n",
    "----    \n"
   ]
  },
  {
   "cell_type": "code",
   "execution_count": 12,
   "metadata": {},
   "outputs": [
    {
     "name": "stdout",
     "output_type": "stream",
     "text": [
      "Converted files saved as: Structure.str\n"
     ]
    }
   ],
   "source": [
    "%run improved_Fasta2Structure.py Example_data/Datasets/ITS.fas Example_data/Datasets/trnD-trnT.fas Example_data/Datasets/trnH-trnK.fas "
   ]
  },
  {
   "cell_type": "markdown",
   "metadata": {},
   "source": [
    "It saves it with a generic file name, `Structure.str`. Rename it to be clear before running the script again because it may well save different data with the same name. (Do the same with the `log.log`.)"
   ]
  },
  {
   "cell_type": "code",
   "execution_count": null,
   "metadata": {},
   "outputs": [],
   "source": [
    "mv Structure.str all_three_examples_called_individually_Structure.str\n",
    "mv log.log all_three_examples_called_individually_log.log"
   ]
  },
  {
   "cell_type": "code",
   "execution_count": 1,
   "metadata": {},
   "outputs": [
    {
     "name": "stdout",
     "output_type": "stream",
     "text": [
      "Converted files saved as: Structure.str\n"
     ]
    }
   ],
   "source": [
    "%run improved_Fasta2Structure.py Example_data/Datasets/"
   ]
  },
  {
   "cell_type": "markdown",
   "metadata": {},
   "source": [
    "That situation also saves it with a generic file name, `Structure.str`. again, rename it & the log file to distinguish them before running the script a next time."
   ]
  },
  {
   "cell_type": "code",
   "execution_count": 7,
   "metadata": {},
   "outputs": [],
   "source": [
    "mv Structure.str directory_utilized_Structure.str\n",
    "mv log.log directory_utilized_log.log"
   ]
  },
  {
   "cell_type": "markdown",
   "metadata": {},
   "source": [
    "#### Troubleshooting\n",
    "\n",
    "Note if you start to not see the log file, `log.log`, get generated that should be produced when using improved_Fasta2Structure.py, you should first try restarting the kernel and sticking with `%run`, see [here](https://stackoverflow.com/a/48005958/8508004) for more about that. If that fails, you can try to change the `%run` to `!python`.  "
   ]
  },
  {
   "cell_type": "code",
   "execution_count": null,
   "metadata": {},
   "outputs": [],
   "source": []
  },
  {
   "cell_type": "code",
   "execution_count": null,
   "metadata": {},
   "outputs": [],
   "source": []
  },
  {
   "cell_type": "code",
   "execution_count": null,
   "metadata": {},
   "outputs": [],
   "source": []
  }
 ],
 "metadata": {
  "kernelspec": {
   "display_name": "Python 3 (ipykernel)",
   "language": "python",
   "name": "python3"
  },
  "language_info": {
   "codemirror_mode": {
    "name": "ipython",
    "version": 3
   },
   "file_extension": ".py",
   "mimetype": "text/x-python",
   "name": "python",
   "nbconvert_exporter": "python",
   "pygments_lexer": "ipython3",
   "version": "3.10.14"
  }
 },
 "nbformat": 4,
 "nbformat_minor": 4
}
